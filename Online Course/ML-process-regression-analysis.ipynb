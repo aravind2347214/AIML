{
 "cells": [
  {
   "cell_type": "code",
   "execution_count": 2,
   "metadata": {},
   "outputs": [
    {
     "name": "stdout",
     "output_type": "stream",
     "text": [
      "(21613, 21)\n",
      "Index(['id', 'date', 'price', 'bedrooms', 'bathrooms', 'sqft_living',\n",
      "       'sqft_lot', 'floors', 'waterfront', 'view', 'condition', 'grade',\n",
      "       'sqft_above', 'sqft_basement', 'yr_built', 'yr_renovated', 'zipcode',\n",
      "       'lat', 'long', 'sqft_living15', 'sqft_lot15'],\n",
      "      dtype='object')\n"
     ]
    }
   ],
   "source": [
    "import pandas as pd\n",
    "#read data from input csv file\n",
    "\n",
    "house_data = pd.read_csv(\"datasets/kc_house_data.csv\")\n",
    "#Determine the size of the data\n",
    "print(house_data.shape)\n",
    "#output\n",
    "#(21613, 21)\n",
    "#Determine the columns in the data\n",
    "print(house_data.columns)\n"
   ]
  },
  {
   "cell_type": "code",
   "execution_count": 3,
   "metadata": {},
   "outputs": [
    {
     "name": "stdout",
     "output_type": "stream",
     "text": [
      "<class 'pandas.core.frame.DataFrame'>\n",
      "RangeIndex: 21613 entries, 0 to 21612\n",
      "Data columns (total 21 columns):\n",
      " #   Column         Non-Null Count  Dtype  \n",
      "---  ------         --------------  -----  \n",
      " 0   id             21613 non-null  int64  \n",
      " 1   date           21613 non-null  object \n",
      " 2   price          21613 non-null  float64\n",
      " 3   bedrooms       21613 non-null  int64  \n",
      " 4   bathrooms      21613 non-null  float64\n",
      " 5   sqft_living    21613 non-null  int64  \n",
      " 6   sqft_lot       21613 non-null  int64  \n",
      " 7   floors         21613 non-null  float64\n",
      " 8   waterfront     21613 non-null  int64  \n",
      " 9   view           21613 non-null  int64  \n",
      " 10  condition      21613 non-null  int64  \n",
      " 11  grade          21613 non-null  int64  \n",
      " 12  sqft_above     21613 non-null  int64  \n",
      " 13  sqft_basement  21613 non-null  int64  \n",
      " 14  yr_built       21613 non-null  int64  \n",
      " 15  yr_renovated   21613 non-null  int64  \n",
      " 16  zipcode        21613 non-null  int64  \n",
      " 17  lat            21613 non-null  float64\n",
      " 18  long           21613 non-null  float64\n",
      " 19  sqft_living15  21613 non-null  int64  \n",
      " 20  sqft_lot15     21613 non-null  int64  \n",
      "dtypes: float64(5), int64(15), object(1)\n",
      "memory usage: 3.5+ MB\n",
      "None\n"
     ]
    }
   ],
   "source": [
    "#View information about the data in each columns\n",
    "print(house_data.info())"
   ]
  },
  {
   "cell_type": "code",
   "execution_count": null,
   "metadata": {},
   "outputs": [],
   "source": [
    "# In the following code, following tasks to be performed:\n",
    "\n",
    "# Selecting features to work on. Creating two new features - year and month from the date.\n",
    "\n",
    "# Encoding the categorical features\n",
    "\n",
    "# Normalizing the continuous numerical features"
   ]
  },
  {
   "cell_type": "code",
   "execution_count": 4,
   "metadata": {},
   "outputs": [],
   "source": [
    "house_data_df = house_data[[\"price\",\"date\", \"bedrooms\", \n",
    "                                  \"bathrooms\", \"sqft_living\", \"floors\", \n",
    "                                  \"waterfront\", \"view\", \"condition\", \"grade\",\"zipcode\"]]\n"
   ]
  },
  {
   "cell_type": "code",
   "execution_count": 14,
   "metadata": {},
   "outputs": [
    {
     "name": "stdout",
     "output_type": "stream",
     "text": [
      "          price  bedrooms  bathrooms  sqft_living  floors  waterfront  view   \n",
      "0      221900.0         3       1.00         1180     1.0           0     0  \\\n",
      "1      538000.0         3       2.25         2570     2.0           0     0   \n",
      "2      180000.0         2       1.00          770     1.0           0     0   \n",
      "3      604000.0         4       3.00         1960     1.0           0     0   \n",
      "4      510000.0         3       2.00         1680     1.0           0     0   \n",
      "...         ...       ...        ...          ...     ...         ...   ...   \n",
      "21608  360000.0         3       2.50         1530     3.0           0     0   \n",
      "21609  400000.0         4       2.50         2310     2.0           0     0   \n",
      "21610  402101.0         2       0.75         1020     2.0           0     0   \n",
      "21611  400000.0         3       2.50         1600     2.0           0     0   \n",
      "21612  325000.0         2       0.75         1020     2.0           0     0   \n",
      "\n",
      "       condition  grade  zipcode  year month  \n",
      "0              3      7    98178  2014    10  \n",
      "1              3      7    98125  2014    12  \n",
      "2              3      6    98028  2015    02  \n",
      "3              5      7    98136  2014    12  \n",
      "4              3      8    98074  2015    02  \n",
      "...          ...    ...      ...   ...   ...  \n",
      "21608          3      8    98103  2014    05  \n",
      "21609          3      8    98146  2015    02  \n",
      "21610          3      7    98144  2014    06  \n",
      "21611          3      8    98027  2015    01  \n",
      "21612          3      7    98144  2014    10  \n",
      "\n",
      "[21613 rows x 12 columns]\n"
     ]
    }
   ],
   "source": [
    "# Extracting year and month from date\n",
    "house_data_df[\"year\"]=house_data[\"date\"].str[0:4]\n",
    "house_data_df[\"month\"] = house_data[\"date\"].str[4:6]\n",
    "house_data_df[\"month\"] \n",
    "#removing date after this extraction\n",
    "print(house_data_df ) \n",
    "# house_data_df.drop(columns=[\"date\"])\n"
   ]
  },
  {
   "cell_type": "code",
   "execution_count": 15,
   "metadata": {},
   "outputs": [
    {
     "name": "stdout",
     "output_type": "stream",
     "text": [
      "Index(['price', 'bedrooms', 'bathrooms', 'sqft_living', 'floors',\n",
      "       'waterfront_0', 'waterfront_1', 'view_0', 'view_1', 'view_2',\n",
      "       ...\n",
      "       'zipcode_98146', 'zipcode_98148', 'zipcode_98155', 'zipcode_98166',\n",
      "       'zipcode_98168', 'zipcode_98177', 'zipcode_98178', 'zipcode_98188',\n",
      "       'zipcode_98198', 'zipcode_98199'],\n",
      "      dtype='object', length=113)\n"
     ]
    }
   ],
   "source": [
    "# encoding categorical values\n",
    "cat_features = [\"waterfront\", \"view\", \"condition\", \"grade\", \"year\", \"month\", \"zipcode\"]\n",
    "house_data_df = pd.get_dummies(house_data_df,columns=cat_features)\n",
    "print(house_data_df.columns)\n"
   ]
  },
  {
   "cell_type": "code",
   "execution_count": 16,
   "metadata": {},
   "outputs": [
    {
     "data": {
      "text/plain": [
       "array([[-0.86671733, -0.39873715, -1.44746357, -0.97983502, -0.915427  ],\n",
       "       [-0.00568792, -0.39873715,  0.1756067 ,  0.53363434,  0.93650577],\n",
       "       [-0.98084935, -1.47395936, -1.44746357, -1.42625404, -0.915427  ],\n",
       "       ...,\n",
       "       [-0.37586519, -1.47395936, -1.77207762, -1.15404732,  0.93650577],\n",
       "       [-0.38158814, -0.39873715,  0.50022075, -0.52252773,  0.93650577],\n",
       "       [-0.58588173, -1.47395936, -1.77207762, -1.15404732,  0.93650577]])"
      ]
     },
     "execution_count": 16,
     "metadata": {},
     "output_type": "execute_result"
    }
   ],
   "source": [
    "# 3. Normalizing the continuous numerical features\n",
    "\n",
    "from sklearn.preprocessing import StandardScaler\n",
    "# finding the mean and std deviation of numerical columns\n",
    "scaler = StandardScaler().fit(house_data_df[['price', 'bedrooms', 'bathrooms', 'sqft_living', 'floors']]) \n",
    "# scaling columns to a common range\n",
    "house_data_normalized = scaler.transform(house_data_df[['price', 'bedrooms', 'bathrooms', 'sqft_living', 'floors']])# Scaled data \n",
    "#note that output is a 2-Dimensional array of normalized data\n",
    "house_data_normalized\n"
   ]
  },
  {
   "cell_type": "code",
   "execution_count": 17,
   "metadata": {},
   "outputs": [],
   "source": [
    "# Replacing Numerical with normalized value\n",
    "#updating the numerical(normalized) data into the dataframe\n",
    "house_data_df_normalized=pd.DataFrame(house_data_normalized,columns=['price', 'bedrooms', 'bathrooms', 'sqft_living', 'floors'])\n",
    "house_data_df_normalized=house_data_df_normalized.join(house_data_df[house_data_df.columns.drop(['price', 'bedrooms', 'bathrooms', 'sqft_living', 'floors'])])\n"
   ]
  },
  {
   "cell_type": "code",
   "execution_count": 18,
   "metadata": {},
   "outputs": [
    {
     "name": "stdout",
     "output_type": "stream",
     "text": [
      "(21613, 112)\n"
     ]
    }
   ],
   "source": [
    "Y = house_data_df_normalized['price']\n",
    "X = house_data_df_normalized[house_data_df_normalized.columns.drop('price')]\n",
    "print(X.shape)\n"
   ]
  },
  {
   "cell_type": "code",
   "execution_count": 19,
   "metadata": {},
   "outputs": [
    {
     "data": {
      "text/plain": [
       "((17290, 112), (4323, 112))"
      ]
     },
     "execution_count": 19,
     "metadata": {},
     "output_type": "execute_result"
    }
   ],
   "source": [
    "# Splitting into train and test data\n",
    "from sklearn.model_selection import train_test_split\n",
    "X_train,X_test,Y_train,Y_test = train_test_split(X,Y,test_size=0.2, random_state=100)\n",
    "X_train.shape , X_test.shape\n",
    "#output\n",
    "#((17290, 112), (4323, 112))"
   ]
  },
  {
   "cell_type": "code",
   "execution_count": 20,
   "metadata": {},
   "outputs": [
    {
     "name": "stdout",
     "output_type": "stream",
     "text": [
      "Train Score (R-Squared):  0.8336992224645738\n",
      "Test Score (R-Squared) 0.8313081380534988\n"
     ]
    }
   ],
   "source": [
    "#importing required module to build the model\n",
    "from sklearn.linear_model import LinearRegression\n",
    "#building and training the model\n",
    "model = LinearRegression()\n",
    "model.fit(X_train,Y_train)\n",
    "#Evaluating the model on the train and test data for R-Squared score \n",
    "train_score=model.score(X_train,Y_train)\n",
    "test_score=model.score(X_test,Y_test)\n",
    "print('Train Score (R-Squared): ',train_score)\n",
    "print('Test Score (R-Squared)',test_score)\n",
    "# sample output\n",
    "# Train Score (R-Squared):  0.8336987270194174\n",
    "# Test Score (R-Squared) 0.8313082620280754\n",
    "\n",
    "# In the above code, the model's performance is evaluated using the R2 measure which was discussed previously. \n",
    "# Since both the train and test data provides comparable value for R-Squared measure, \n",
    "# we can say that the model is not over-fitting."
   ]
  },
  {
   "cell_type": "code",
   "execution_count": 21,
   "metadata": {},
   "outputs": [
    {
     "name": "stdout",
     "output_type": "stream",
     "text": [
      "Train RMSE :  0.40780018526932427\n",
      "Test RMSE :  0.410710422966687\n"
     ]
    }
   ],
   "source": [
    "# Root Mean Squared Error (RMSE) measure can be used to give an estimate \n",
    "# of the average error that can be expected from the model.\n",
    "\n",
    "from sklearn.metrics import mean_squared_error\n",
    "#root mean square error (RMSE) calculation for train data\n",
    "train_predictions = model.predict(X_train)\n",
    "train_RMSE=mean_squared_error(Y_train,train_predictions)**0.5\n",
    "#root mean square error (RMSE) calculation for test data\n",
    "test_predictions = model.predict(X_test)\n",
    "test_RMSE=mean_squared_error(Y_test,test_predictions)**0.5\n",
    "print('Train RMSE : ',train_RMSE)\n",
    "print('Test RMSE : ',test_RMSE)\n",
    "# output\n",
    "# Train RMSE :  0.4078007927303328\n",
    "# Test RMSE :  0.4107102720475509\n",
    "\n",
    "\n"
   ]
  }
 ],
 "metadata": {
  "kernelspec": {
   "display_name": "Python 3",
   "language": "python",
   "name": "python3"
  },
  "language_info": {
   "codemirror_mode": {
    "name": "ipython",
    "version": 3
   },
   "file_extension": ".py",
   "mimetype": "text/x-python",
   "name": "python",
   "nbconvert_exporter": "python",
   "pygments_lexer": "ipython3",
   "version": "3.9.13"
  }
 },
 "nbformat": 4,
 "nbformat_minor": 2
}
